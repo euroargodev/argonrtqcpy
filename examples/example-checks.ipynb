{
 "cells": [
  {
   "cell_type": "markdown",
   "id": "d27faf59-f463-4cd4-80c7-3e8d75b9f926",
   "metadata": {},
   "source": [
    "# Example of a real time QC check"
   ]
  },
  {
   "cell_type": "markdown",
   "id": "dc913cec-5da9-4326-9e82-675ca115e527",
   "metadata": {},
   "source": [
    "This notebook provides an example of retrieving and checking some data from an Argo profile."
   ]
  },
  {
   "cell_type": "code",
   "execution_count": null,
   "id": "6011c027-39dd-4492-9795-9bb95b06e8a1",
   "metadata": {},
   "outputs": [],
   "source": [
    "%%capture\n",
    "# prevent logging output for the download\n",
    "# download some Argo data\n",
    "!curl -O https://data-argo.ifremer.fr/dac/aoml/5906305/profiles/R5906305_001.nc"
   ]
  },
  {
   "cell_type": "code",
   "execution_count": null,
   "id": "2f272c5b-0c5e-4c9c-9878-d26b83353291",
   "metadata": {},
   "outputs": [],
   "source": [
    "# import some useful libraries\n",
    "from argortqcpy.profile import Profile\n",
    "from argortqcpy.checks import ArgoQcFlag, PressureIncreasingCheck\n",
    "from netCDF4 import Dataset\n",
    "import plotly.express as px\n",
    "import numpy as np"
   ]
  },
  {
   "cell_type": "code",
   "execution_count": null,
   "id": "9a09c1ea-2b68-4c06-8609-42425ecc8681",
   "metadata": {},
   "outputs": [],
   "source": [
    "dataset = Dataset(\"R5906305_001.nc\", \"r+\")\n",
    "\n",
    "# modify the pressure data to introduce some non-increasing data\n",
    "bad_pressure = dataset[\"PRES\"][:]\n",
    "bad_pressure[0][0:30:5] -= 50\n",
    "bad_pressure[0][40:100:5] -= 100\n",
    "bad_pressure[0][105:280:20] -= 50\n",
    "bad_pressure[0][300:320] = 110\n",
    "bad_pressure[0][330:400] = -50\n",
    "bad_pressure[0][480:490] = 1100\n",
    "bad_pressure[0][495:498] = 5\n",
    "dataset[\"PRES\"][:] = bad_pressure\n",
    "\n",
    "# store pressure and temperature for later use after closing the dataset\n",
    "pressure = dataset[\"PRES\"][:]\n",
    "temperature = dataset[\"TEMP\"][:]\n",
    "\n",
    "# set up the profile and run the check\n",
    "profile = Profile(dataset=dataset)\n",
    "check = PressureIncreasingCheck(profile=profile, profile_previous=None)\n",
    "output = check.run()\n",
    "\n",
    "# extract the bad data indices from the output\n",
    "bad_indices = output.get_output_flags_for_property(\"PRES\") == ArgoQcFlag.BAD.value\n",
    "\n",
    "# close the netCDF dataset\n",
    "dataset.close()"
   ]
  },
  {
   "cell_type": "code",
   "execution_count": null,
   "id": "3a380c4f-da9e-4852-84d1-1cd6bdb1e942",
   "metadata": {},
   "outputs": [],
   "source": [
    "fig = px.scatter(\n",
    "    x=temperature[0].data,\n",
    "    y=pressure[0].data,\n",
    "    color=bad_indices[0].data,\n",
    "    labels={\n",
    "        \"x\": \"Temperature (°C)\",\n",
    "        \"y\": \"Pressure (dbar)\",\n",
    "    },\n",
    ")\n",
    "name_map = {\"True\": \"Bad\", \"False\": \"Good\"}\n",
    "fig.for_each_trace(lambda trace: trace.update(name=name_map[trace.name]))\n",
    "fig.layout.yaxis.autorange = \"reversed\"\n",
    "fig.show()"
   ]
  }
 ],
 "metadata": {
  "kernelspec": {
   "display_name": "Python 3",
   "language": "python",
   "name": "python3"
  },
  "language_info": {
   "codemirror_mode": {
    "name": "ipython",
    "version": 3
   },
   "file_extension": ".py",
   "mimetype": "text/x-python",
   "name": "python",
   "nbconvert_exporter": "python",
   "pygments_lexer": "ipython3",
   "version": "3.6.13"
  }
 },
 "nbformat": 4,
 "nbformat_minor": 5
}
