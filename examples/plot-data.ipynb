{
 "cells": [
  {
   "cell_type": "markdown",
   "id": "d27faf59-f463-4cd4-80c7-3e8d75b9f926",
   "metadata": {},
   "source": [
    "# Example of retrieving and plotting Argo data"
   ]
  },
  {
   "cell_type": "markdown",
   "id": "dc913cec-5da9-4326-9e82-675ca115e527",
   "metadata": {},
   "source": [
    "This notebook provides an example of retrieving and plotting some data from an Argo profile."
   ]
  },
  {
   "cell_type": "code",
   "execution_count": null,
   "id": "6011c027-39dd-4492-9795-9bb95b06e8a1",
   "metadata": {},
   "outputs": [],
   "source": [
    "%%capture\n",
    "# prevent logging output for the download\n",
    "# download some Argo data\n",
    "!curl -O https://data-argo.ifremer.fr/dac/bodc/6901152/profiles/R6901152_001D.nc"
   ]
  },
  {
   "cell_type": "code",
   "execution_count": null,
   "id": "2f272c5b-0c5e-4c9c-9878-d26b83353291",
   "metadata": {},
   "outputs": [],
   "source": [
    "# import some useful libraries\n",
    "from netCDF4 import Dataset\n",
    "import plotly.express as px"
   ]
  },
  {
   "cell_type": "code",
   "execution_count": null,
   "id": "9a09c1ea-2b68-4c06-8609-42425ecc8681",
   "metadata": {},
   "outputs": [],
   "source": [
    "dataset = Dataset(\"R6901152_001D.nc\")"
   ]
  },
  {
   "cell_type": "code",
   "execution_count": null,
   "id": "3a380c4f-da9e-4852-84d1-1cd6bdb1e942",
   "metadata": {},
   "outputs": [],
   "source": [
    "fig = px.scatter(\n",
    "    x=dataset[\"TEMP\"][:][0],\n",
    "    y=dataset[\"PRES\"][:][0],\n",
    "    labels={\n",
    "        \"x\": \"Temperature (°C)\",\n",
    "        \"y\": \"Pressure (dbar)\",\n",
    "    },\n",
    ")\n",
    "fig.layout.yaxis.autorange = \"reversed\"\n",
    "fig.show()"
   ]
  }
 ],
 "metadata": {
  "kernelspec": {
   "display_name": "Python 3",
   "language": "python",
   "name": "python3"
  },
  "language_info": {
   "codemirror_mode": {
    "name": "ipython",
    "version": 3
   },
   "file_extension": ".py",
   "mimetype": "text/x-python",
   "name": "python",
   "nbconvert_exporter": "python",
   "pygments_lexer": "ipython3",
   "version": "3.6.13"
  }
 },
 "nbformat": 4,
 "nbformat_minor": 5
}
